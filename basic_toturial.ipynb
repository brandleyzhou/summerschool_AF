{
  "nbformat": 4,
  "nbformat_minor": 0,
  "metadata": {
    "colab": {
      "name": "dataset.py",
      "provenance": [],
      "collapsed_sections": [],
      "authorship_tag": "ABX9TyOEfTSS3pThBYe99TmuIUSU",
      "include_colab_link": true
    },
    "kernelspec": {
      "name": "python3",
      "display_name": "Python 3"
    },
    "language_info": {
      "name": "python"
    },
    "accelerator": "GPU",
    "gpuClass": "standard"
  },
  "cells": [
    {
      "cell_type": "markdown",
      "metadata": {
        "id": "view-in-github",
        "colab_type": "text"
      },
      "source": [
        "<a href=\"https://colab.research.google.com/github/brandleyzhou/summerschool_AF/blob/main/basic_toturial.ipynb\" target=\"_parent\"><img src=\"https://colab.research.google.com/assets/colab-badge.svg\" alt=\"Open In Colab\"/></a>"
      ]
    },
    {
      "cell_type": "code",
      "source": [
        "from google.colab import drive\n",
        "mount='/content/gdrive'\n",
        "print(\"Colab: mounting Google drive on \", mount)\n",
        "drive.mount(mount)\n",
        "import os\n",
        "drive_root = mount + \"/My Drive/summerschool\"\n",
        "%cd $drive_root\n"
      ],
      "metadata": {
        "id": "5vKkFPhfz8mJ"
      },
      "execution_count": null,
      "outputs": []
    },
    {
      "cell_type": "code",
      "execution_count": null,
      "metadata": {
        "id": "XjEoD48Nv1LX"
      },
      "outputs": [],
      "source": [
        "import torch\n",
        "import torch.utils.data as data\n",
        "from torchvision import transforms\n",
        "\n",
        "\n",
        "import os\n",
        "import random\n",
        "import numpy as np\n",
        "import copy\n",
        "from PIL import Image  # using pillow-simd for increased speed\n",
        "\n",
        "def pil_loader(path):\n",
        "    with open(path, 'rb') as f:\n",
        "        with Image.open(f) as img:\n",
        "            return img.convert('RGB')\n",
        "\n",
        "class FishDataset(data.Dataset):\n",
        "    def __init__(self, data_path, filenames, is_train = False):\n",
        "        super(FishDataset, self).__init__()\n",
        "        self.data_path = data_path\n",
        "        self.filenames = filenames\n",
        "        self.interp = Image.ANTIALIAS\n",
        "        self.is_train = is_train\n",
        "        self.loader = pil_loader\n",
        "        self.to_tensor = transforms.ToTensor()\n",
        "\n",
        "        try:\n",
        "            self.brightness = (0.8, 1.2)\n",
        "            self.contrast = (0.8, 1.2)\n",
        "            self.saturation = (0.8, 1.2)\n",
        "            self.hue = (-0.1, 0.1)\n",
        "            transforms.ColorJitter.get_params(\n",
        "                self.brightness, self.contrast, self.saturation, self.hue)\n",
        "        except TypeError:\n",
        "            self.brightness = 0.2\n",
        "            self.contrast = 0.2\n",
        "            self.saturation = 0.2\n",
        "            self.hue = 0.1\n",
        "\n",
        "    def preprocess(self, img, color_aug):\n",
        "        img_aug = self.to_tensor(color_aug(img))\n",
        "        print(type(img_aug))\n",
        "        return img_aug\n",
        "    \n",
        "    def generate_gt(self, folder):\n",
        "        gt_list = [\"saithe\", \"herring\", \"grey_gurnard\", \"norway_pout\", \"anchovy\",\n",
        "                    \"red_mullet\", \"cod\", \"haddock\", \"sardine\", \"mackerel\"]\n",
        "        #gt = torch.from_numpy(gt_list.index(folder))\n",
        "        gt = gt_list.index(folder)\n",
        "        return gt\n",
        "    \n",
        "    def __getitem__(self, index):\n",
        "        do_color_aug = self.is_train and random.random() > 0.5\n",
        "        do_flip = self.is_train and random.random() > 0.5\n",
        "\n",
        "        line = self.filenames[index].split()\n",
        "        folder = line[0]\n",
        "        img_name = line[1]\n",
        "        gt = self.generate_gt(folder)\n",
        "        color = self.loader(os.path.join(self.data_path, folder, img_name))\n",
        "        \n",
        "        if do_flip:\n",
        "            color = color.transpose(Image.FLIP_LEFT_RIGHT) \n",
        "        img = color \n",
        "        \n",
        "        if do_color_aug:\n",
        "            color_aug = transforms.ColorJitter.get_params(\n",
        "                self.brightness, self.contrast, self.saturation, self.hue)\n",
        "        else:\n",
        "            color_aug = (lambda x: x)\n",
        "        #img_aug = self.preprocess(img, color_aug)\n",
        "        #del img \n",
        "        return self.to_tensor(img), gt \n",
        "    def __len__(self):\n",
        "        return len(self.filenames)\n"
      ]
    },
    {
      "cell_type": "code",
      "execution_count": null,
      "metadata": {
        "id": "lfwcmTKZwUd6",
        "colab": {
          "base_uri": "https://localhost:8080/"
        },
        "outputId": "3fa53bea-ba0b-495c-8ad0-c4ebe13c99c3"
      },
      "outputs": [
        {
          "output_type": "stream",
          "name": "stdout",
          "text": [
            "1886\n",
            "Epoch: 0 | Loss: 2.0588 | Train Accuracy: 43.97\n",
            "Epoch: 1 | Loss: 1.8797 | Train Accuracy: 60.83\n",
            "Epoch: 2 | Loss: 1.8367 | Train Accuracy: 65.46\n",
            "Epoch: 3 | Loss: 1.8208 | Train Accuracy: 67.03\n",
            "Epoch: 4 | Loss: 1.8089 | Train Accuracy: 67.83\n"
          ]
        }
      ],
      "source": [
        "from __future__ import absolute_import\n",
        "import torch\n",
        "import torch.nn as nn\n",
        "import torch.nn.functional as F\n",
        "import torchvision\n",
        "#from .dataset import FishDataset\n",
        "from torch.utils.data import DataLoader\n",
        "from tqdm import tqdm\n",
        "data_path = 'Archive'\n",
        "train_set_path = 'Archive/train_val.txt'\n",
        "batch_size = 16\n",
        "num_epochs = 5\n",
        "learning_rate = 1e-4\n",
        "def readlines(filename):\n",
        "    with open(filename, 'r') as f:\n",
        "        lines = f.read().splitlines()\n",
        "    return lines\n",
        "#============================= data loader =======================\n",
        "train_files = readlines(train_set_path)\n",
        "print(len(train_files))\n",
        "trainset = FishDataset(data_path, train_files, is_train = True)\n",
        "train_loader = DataLoader(trainset, batch_size, True, \n",
        "        num_workers = 1, pin_memory=True, drop_last=True)\n",
        "\n",
        "#=================================================================\n",
        "\n",
        "#============================= network ===========================\n",
        "class MyModel(nn.Module):\n",
        "    def __init__(self):\n",
        "        super(MyModel, self).__init__()\n",
        "\n",
        "        self.conv1 = nn.Conv2d(3, 32, kernel_size=7, stride=2, padding=3, bias=False)\n",
        "        self.maxpool = nn.MaxPool2d(kernel_size=3, stride=2, padding=1)\n",
        "        self.conv2 = nn.Conv2d( 32, 64, kernel_size = 3, stride = 2 )\n",
        "        self.d1 = nn.Linear(64 * 32 * 32, 128)\n",
        "        self.d2 = nn.Linear(128, 10)\n",
        "\n",
        "    def forward(self, x):\n",
        "        x = self.conv1(x)\n",
        "        x = F.relu(x)\n",
        "        x = self.maxpool(x)\n",
        "        x = self.conv2(x)\n",
        "        x = self.maxpool(x)\n",
        "        x = x.flatten(start_dim = 1)\n",
        "\n",
        "        x = self.d1(x)\n",
        "        x = F.relu(x)\n",
        "\n",
        "        logits = self.d2(x)\n",
        "        out = F.softmax(logits, dim=1)\n",
        "        return out\n",
        "#=====================================================================\n",
        "model = MyModel().cuda()\n",
        "criterion = nn.CrossEntropyLoss()\n",
        "optimizer = torch.optim.Adam(model.parameters(), lr=learning_rate)\n",
        "#=====================================================================\n",
        "\n",
        "def get_accuracy(logit, target, batch_size):\n",
        "    ''' Obtain accuracy for training round '''\n",
        "    corrects = (torch.max(logit, 1)[1].view(target.size()).data == target.data).sum()\n",
        "    accuracy = 100.0 * corrects/batch_size\n",
        "    return accuracy.item()\n",
        "\n",
        "for epoch in range(num_epochs):\n",
        "    train_running_loss = 0\n",
        "    train_acc = 0\n",
        "    model.train()\n",
        "    for i, (img, label) in enumerate(train_loader):\n",
        "        img = img.cuda()\n",
        "        label = label.cuda()\n",
        "        out = model(img)\n",
        "        loss = criterion(out, label)\n",
        "        \n",
        "        optimizer.zero_grad()\n",
        "        loss.backward()\n",
        "        optimizer.step()\n",
        "\n",
        "        train_running_loss += loss.detach().item()\n",
        "        train_acc += get_accuracy(out, label, batch_size)\n",
        "    \n",
        "    model.eval()\n",
        "    print('Epoch: %d | Loss: %.4f | Train Accuracy: %.2f' \\\n",
        "          %(epoch, train_running_loss / i, train_acc/i))         "
      ]
    },
    {
      "cell_type": "code",
      "source": [
        ""
      ],
      "metadata": {
        "id": "iTT_ygfw4pQ_"
      },
      "execution_count": null,
      "outputs": []
    }
  ]
}